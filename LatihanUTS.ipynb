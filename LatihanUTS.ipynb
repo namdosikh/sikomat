{
  "nbformat": 4,
  "nbformat_minor": 0,
  "metadata": {
    "colab": {
      "name": "LatihanUTS.ipynb",
      "provenance": [],
      "collapsed_sections": [
        "hvRw5B1_oS5h",
        "PUDwszbkobIF",
        "Gyw4mCD10Nvx"
      ],
      "include_colab_link": true
    },
    "kernelspec": {
      "name": "python3",
      "display_name": "Python 3"
    },
    "language_info": {
      "name": "python"
    }
  },
  "cells": [
    {
      "cell_type": "markdown",
      "metadata": {
        "id": "view-in-github",
        "colab_type": "text"
      },
      "source": [
        "<a href=\"https://colab.research.google.com/github/namdosikh/sikomat/blob/main/LatihanUTS.ipynb\" target=\"_parent\"><img src=\"https://colab.research.google.com/assets/colab-badge.svg\" alt=\"Open In Colab\"/></a>"
      ]
    },
    {
      "cell_type": "markdown",
      "metadata": {
        "id": "hvRw5B1_oS5h"
      },
      "source": [
        "# **SOAL LATIHAN 1**"
      ]
    },
    {
      "cell_type": "code",
      "metadata": {
        "colab": {
          "base_uri": "https://localhost:8080/"
        },
        "id": "hEY2-u06kceI",
        "outputId": "890b8687-396f-4e09-d64d-265b43d6f7bb"
      },
      "source": [
        "a = int(input())\n",
        "b = int(input())\n",
        "\n",
        "a += b\n",
        "b = a - b\n",
        "a = a - b\n",
        "\n",
        "print(a, b)"
      ],
      "execution_count": null,
      "outputs": [
        {
          "output_type": "stream",
          "name": "stdout",
          "text": [
            "2\n",
            "3\n",
            "3 2\n"
          ]
        }
      ]
    },
    {
      "cell_type": "code",
      "metadata": {
        "id": "VhE2VK9smiCp",
        "colab": {
          "base_uri": "https://localhost:8080/"
        },
        "outputId": "e22f68e3-9dd2-42e4-f0ac-520675d18cca"
      },
      "source": [
        "a = int(input())\n",
        "b = int(input())\n",
        "c = int(input())\n",
        "\n",
        "a += b + c\n",
        "b = a - b - c\n",
        "c = a - b - c\n",
        "a = a - b - c\n",
        "\n",
        "print(a, b, c)"
      ],
      "execution_count": null,
      "outputs": [
        {
          "output_type": "stream",
          "name": "stdout",
          "text": [
            "1\n",
            "2\n",
            "3\n",
            "3 1 2\n"
          ]
        }
      ]
    },
    {
      "cell_type": "code",
      "metadata": {
        "colab": {
          "base_uri": "https://localhost:8080/"
        },
        "id": "WX-flpy2o5-7",
        "outputId": "055aff6a-1875-4864-bd5a-8cdc36330f37"
      },
      "source": [
        "import math\n",
        "\n",
        "a, b, c, d, e = 5, 2, 5, 6, 9\n",
        "\n",
        "rerata = (a+b+c+d+e) / 5\n",
        "print(rerata)\n",
        "\n",
        "a, b, c, d, e = (a-rerata)**2, (b-rerata)**2, (c-rerata)**2, (d-rerata)**2, (e-rerata)**2\n",
        "\n",
        "std_dev = math.sqrt((1/4)*(a+b+c+d+e))\n",
        "print(std_dev)"
      ],
      "execution_count": null,
      "outputs": [
        {
          "output_type": "stream",
          "name": "stdout",
          "text": [
            "5.4\n",
            "2.5099800796022267\n"
          ]
        }
      ]
    },
    {
      "cell_type": "code",
      "metadata": {
        "colab": {
          "base_uri": "https://localhost:8080/"
        },
        "id": "LGoUQkLuqjww",
        "outputId": "718316ea-1e59-4c6c-9afc-528386683b66"
      },
      "source": [
        "# no.4\n",
        "import math\n",
        "\n",
        "a, b, c = int(input()), int(input()), int(input())\n",
        "\n",
        "disc = b**2 - 4*a*c\n",
        "print(disc)\n",
        "\n",
        "akar1 = (-b + math.sqrt(disc)) / 2*a\n",
        "akar2 = (-b - math.sqrt(disc)) / 2*a\n",
        "print(akar1, akar25)"
      ],
      "execution_count": null,
      "outputs": [
        {
          "output_type": "stream",
          "name": "stdout",
          "text": [
            "1\n",
            "5\n",
            "6\n",
            "1\n",
            "-2.0 -3.0\n"
          ]
        }
      ]
    },
    {
      "cell_type": "markdown",
      "metadata": {
        "id": "PUDwszbkobIF"
      },
      "source": [
        "# **SOAL LATIHAN 2**"
      ]
    },
    {
      "cell_type": "code",
      "metadata": {
        "id": "9B9Sg0DCNSzM"
      },
      "source": [
        "# no.2\n",
        "\n",
        "a, b, c = 2, 4, 3\n",
        "\n",
        "# mager"
      ],
      "execution_count": null,
      "outputs": []
    },
    {
      "cell_type": "code",
      "metadata": {
        "id": "pPpkxn0PDROF"
      },
      "source": [
        "# no.5\n",
        "\n",
        "a, b, p, c, d, q = int(input())\n",
        "spl = [[a, b, p], [c, d, q]]\n",
        "\n",
        "if ((a*d - b*c) != 0):\n",
        "  # pakai gauss-jordan\n",
        "\n",
        "else:\n",
        "  print(\"Tak memenuhi syarat\")"
      ],
      "execution_count": null,
      "outputs": []
    },
    {
      "cell_type": "markdown",
      "metadata": {
        "id": "Gyw4mCD10Nvx"
      },
      "source": [
        "# **SOAL LATIHAN 3**"
      ]
    },
    {
      "cell_type": "code",
      "metadata": {
        "colab": {
          "base_uri": "https://localhost:8080/"
        },
        "id": "4-vKUiwHDgxZ",
        "outputId": "b7c9251f-5ecd-4ea6-f444-b0005a613675"
      },
      "source": [
        "# no.3\n",
        "\n",
        "i = 1\n",
        "hasil = 1\n",
        "\n",
        "while i<100:\n",
        "  hasil = hasil*i\n",
        "  i += 2\n",
        "\n",
        "print(hasil)"
      ],
      "execution_count": null,
      "outputs": [
        {
          "output_type": "stream",
          "name": "stdout",
          "text": [
            "2725392139750729502980713245400918633290796330545803413734328823443106201171875\n"
          ]
        }
      ]
    },
    {
      "cell_type": "code",
      "metadata": {
        "colab": {
          "base_uri": "https://localhost:8080/"
        },
        "id": "fcXTVXp_0RY5",
        "outputId": "6bebbed3-d3cf-4d93-e5ee-ef4b1e1f50ef"
      },
      "source": [
        "# no.6\n",
        "\n",
        "a = float(input())\n",
        "error = 0.00001\n",
        "\n",
        "p = 1\n",
        "q = (p+a/p)/2\n",
        "\n",
        "while abs(q-p) > error:\n",
        "  p = q\n",
        "  q = (p+a/p)/2\n",
        "\n",
        "print(\"Nilai hampiran :\", q)"
      ],
      "execution_count": null,
      "outputs": [
        {
          "output_type": "stream",
          "name": "stdout",
          "text": [
            "3\n",
            "Nilai hampiran : 1.7320508075688772\n"
          ]
        }
      ]
    },
    {
      "cell_type": "code",
      "metadata": {
        "colab": {
          "base_uri": "https://localhost:8080/"
        },
        "id": "NybiZnqPm0zZ",
        "outputId": "fb17047c-79ea-4587-a671-3bd04f72431f"
      },
      "source": [
        "# no.9 (pake fungsi)\n",
        "\n",
        "def factorial (n):\n",
        "  if (n==0 or n==1):\n",
        "    return 1\n",
        "  else:\n",
        "    hasil = n*factorial(n-1)\n",
        "    return hasil\n",
        "\n",
        "n = int(input())\n",
        "hasil = n\n",
        "\n",
        "factorial(n)"
      ],
      "execution_count": null,
      "outputs": [
        {
          "name": "stdout",
          "output_type": "stream",
          "text": [
            "5\n"
          ]
        },
        {
          "output_type": "execute_result",
          "data": {
            "text/plain": [
              "120"
            ]
          },
          "metadata": {},
          "execution_count": 6
        }
      ]
    },
    {
      "cell_type": "code",
      "metadata": {
        "colab": {
          "base_uri": "https://localhost:8080/"
        },
        "id": "MI7_6gN0ENyS",
        "outputId": "b809b3b5-cc85-41ca-ff82-59979277cbbf"
      },
      "source": [
        "# no.11\n",
        "\n",
        "k = str(input())\n",
        "n = len(k)\n",
        "\n",
        "for i in range(n):\n",
        "  if k[i] == k[n-1-i]:\n",
        "    p = True\n",
        "  else:\n",
        "    p = False\n",
        "    break\n",
        "\n",
        "if p:\n",
        "  print(\"Palindrom\")\n",
        "else:\n",
        "  print(\"Bukan Palindrom\")"
      ],
      "execution_count": null,
      "outputs": [
        {
          "output_type": "stream",
          "name": "stdout",
          "text": [
            "sayasu\n",
            "Bukan Palindrom\n"
          ]
        }
      ]
    },
    {
      "cell_type": "markdown",
      "metadata": {
        "id": "xctJj7p_GVrP"
      },
      "source": [
        "# **SOAL LATIHAN 4**"
      ]
    },
    {
      "cell_type": "code",
      "metadata": {
        "colab": {
          "base_uri": "https://localhost:8080/"
        },
        "id": "dqR8xXHVGcXL",
        "outputId": "360003f2-4ee3-40a0-a7b9-1647a256eda0"
      },
      "source": [
        "# no.4\n",
        "\n",
        "a = [2, 4, 5, 6, 1, 4, 4, 2, 3, 1, 1, 5, 7, 6]\n",
        "b = int(input())\n",
        "\n",
        "print(\"Bilangan yang sama dengan\", b, \"terdapat pada indeks ke:\", end=\" \")\n",
        "for i in range(len(a)):\n",
        "  if b == a[i-1]:\n",
        "    print(i, end=\" \")"
      ],
      "execution_count": null,
      "outputs": [
        {
          "output_type": "stream",
          "name": "stdout",
          "text": [
            "2\n",
            "Bilangan yang sama dengan 2 terdapat pada indeks ke: 1 8 "
          ]
        }
      ]
    },
    {
      "cell_type": "code",
      "metadata": {
        "colab": {
          "base_uri": "https://localhost:8080/"
        },
        "id": "y8w3m3VSQ65F",
        "outputId": "453a50a6-e62b-4a4e-8715-747319e18f36"
      },
      "source": [
        "# no.13\n",
        "\n",
        "a = [\n",
        "     [50, 1, 3],\n",
        "     [1, 43, 5],\n",
        "     [3, 3, 35]\n",
        "]\n",
        "\n",
        "n = len(a)\n",
        "\n",
        "dominan = True\n",
        "for i in range(n):\n",
        "  a_ii = abs(a[i][i])\n",
        "  sum_a_ij = 0\n",
        "  for j in range(n):\n",
        "    if i != j:\n",
        "      sum_a_ij += abs(a[i][j])\n",
        "  if a_ii < sum_a_ij:\n",
        "    dominan = False\n",
        "\n",
        "if dominan:\n",
        "  print(\"Matriks dominan\")\n",
        "else:\n",
        "  print(\"Bukan\")"
      ],
      "execution_count": null,
      "outputs": [
        {
          "output_type": "stream",
          "name": "stdout",
          "text": [
            "Matriks dominan\n"
          ]
        }
      ]
    },
    {
      "cell_type": "markdown",
      "metadata": {
        "id": "XCkvuti2qykU"
      },
      "source": [
        "# **SOAL LATIHAN 5**"
      ]
    },
    {
      "cell_type": "code",
      "metadata": {
        "colab": {
          "base_uri": "https://localhost:8080/"
        },
        "id": "4ZJkpPkIH9nw",
        "outputId": "08600eb9-d7e1-4ea4-a72c-16e11ac0735b"
      },
      "source": [
        "# no.2 (Fibonacci Recursion)\n",
        "\n",
        "def fib(n):\n",
        "  if n == 1 or n == 2:\n",
        "    return 1\n",
        "  else:\n",
        "    return fib(n-1) + fib(n-2)\n",
        "\n",
        "n = int(input())\n",
        "\n",
        "print(fib(n))"
      ],
      "execution_count": null,
      "outputs": [
        {
          "output_type": "stream",
          "name": "stdout",
          "text": [
            "5\n",
            "5\n"
          ]
        }
      ]
    },
    {
      "cell_type": "code",
      "metadata": {
        "colab": {
          "base_uri": "https://localhost:8080/"
        },
        "id": "PsK0KfUBvPRn",
        "outputId": "67353bd3-6671-4405-9f52-3fd302311b94"
      },
      "source": [
        "# no.3\n",
        "\n",
        "def tanam_toge (n):\n",
        "  if n == 0:\n",
        "    return 0\n",
        "  elif n == 1:\n",
        "    return 100\n",
        "  else:\n",
        "    return 0.75*tanam_toge(n-1) + 0.3*tanam_toge(n-2)\n",
        "\n",
        "n = int(input(\"n : \"))\n",
        "print(tanam_toge(n))"
      ],
      "execution_count": null,
      "outputs": [
        {
          "output_type": "stream",
          "name": "stdout",
          "text": [
            "n : 8\n",
            "102.13198242187501\n"
          ]
        }
      ]
    },
    {
      "cell_type": "markdown",
      "metadata": {
        "id": "4Ab_maPGpeeG"
      },
      "source": [
        "# **UTS 2021**"
      ]
    },
    {
      "cell_type": "code",
      "metadata": {
        "colab": {
          "base_uri": "https://localhost:8080/",
          "height": 340
        },
        "id": "XiCmHOR-P0dD",
        "outputId": "5efc1d1c-cfb6-48b0-d9a0-c06d36c1e94a"
      },
      "source": [
        "# no.4 error\n",
        "\n",
        "def a_n(r,n):\n",
        "  while n >= 0:\n",
        "    sn = r**n + a_n(r,n-1)\n",
        "  return sn\n",
        "\n",
        "# r = int(input())\n",
        "# n = int(input())\n",
        "\n",
        "# if abs(r) >= 1:\n",
        "#   print(\"Masukan salah\")\n",
        "# else:\n",
        "#   print(an(r, n))\n",
        "\n",
        "sn = 0\n",
        "print(a_n(2,2))"
      ],
      "execution_count": 27,
      "outputs": [
        {
          "output_type": "error",
          "ename": "UnboundLocalError",
          "evalue": "ignored",
          "traceback": [
            "\u001b[0;31m---------------------------------------------------------------------------\u001b[0m",
            "\u001b[0;31mUnboundLocalError\u001b[0m                         Traceback (most recent call last)",
            "\u001b[0;32m<ipython-input-27-ad0c67f02ee4>\u001b[0m in \u001b[0;36m<module>\u001b[0;34m()\u001b[0m\n\u001b[1;32m     13\u001b[0m \u001b[0;34m\u001b[0m\u001b[0m\n\u001b[1;32m     14\u001b[0m \u001b[0msn\u001b[0m \u001b[0;34m=\u001b[0m \u001b[0;36m0\u001b[0m\u001b[0;34m\u001b[0m\u001b[0;34m\u001b[0m\u001b[0m\n\u001b[0;32m---> 15\u001b[0;31m \u001b[0mprint\u001b[0m\u001b[0;34m(\u001b[0m\u001b[0ma_n\u001b[0m\u001b[0;34m(\u001b[0m\u001b[0;36m2\u001b[0m\u001b[0;34m,\u001b[0m\u001b[0;36m2\u001b[0m\u001b[0;34m)\u001b[0m\u001b[0;34m)\u001b[0m\u001b[0;34m\u001b[0m\u001b[0;34m\u001b[0m\u001b[0m\n\u001b[0m",
            "\u001b[0;32m<ipython-input-27-ad0c67f02ee4>\u001b[0m in \u001b[0;36ma_n\u001b[0;34m(r, n)\u001b[0m\n\u001b[1;32m      1\u001b[0m \u001b[0;32mdef\u001b[0m \u001b[0ma_n\u001b[0m\u001b[0;34m(\u001b[0m\u001b[0mr\u001b[0m\u001b[0;34m,\u001b[0m\u001b[0mn\u001b[0m\u001b[0;34m)\u001b[0m\u001b[0;34m:\u001b[0m\u001b[0;34m\u001b[0m\u001b[0;34m\u001b[0m\u001b[0m\n\u001b[1;32m      2\u001b[0m   \u001b[0;32mwhile\u001b[0m \u001b[0mn\u001b[0m \u001b[0;34m>=\u001b[0m \u001b[0;36m0\u001b[0m\u001b[0;34m:\u001b[0m\u001b[0;34m\u001b[0m\u001b[0;34m\u001b[0m\u001b[0m\n\u001b[0;32m----> 3\u001b[0;31m     \u001b[0msn\u001b[0m \u001b[0;34m=\u001b[0m \u001b[0mr\u001b[0m\u001b[0;34m**\u001b[0m\u001b[0mn\u001b[0m \u001b[0;34m+\u001b[0m \u001b[0ma_n\u001b[0m\u001b[0;34m(\u001b[0m\u001b[0mr\u001b[0m\u001b[0;34m,\u001b[0m\u001b[0mn\u001b[0m\u001b[0;34m-\u001b[0m\u001b[0;36m1\u001b[0m\u001b[0;34m)\u001b[0m\u001b[0;34m\u001b[0m\u001b[0;34m\u001b[0m\u001b[0m\n\u001b[0m\u001b[1;32m      4\u001b[0m   \u001b[0;32mreturn\u001b[0m \u001b[0msn\u001b[0m\u001b[0;34m\u001b[0m\u001b[0;34m\u001b[0m\u001b[0m\n\u001b[1;32m      5\u001b[0m \u001b[0;34m\u001b[0m\u001b[0m\n",
            "\u001b[0;32m<ipython-input-27-ad0c67f02ee4>\u001b[0m in \u001b[0;36ma_n\u001b[0;34m(r, n)\u001b[0m\n\u001b[1;32m      1\u001b[0m \u001b[0;32mdef\u001b[0m \u001b[0ma_n\u001b[0m\u001b[0;34m(\u001b[0m\u001b[0mr\u001b[0m\u001b[0;34m,\u001b[0m\u001b[0mn\u001b[0m\u001b[0;34m)\u001b[0m\u001b[0;34m:\u001b[0m\u001b[0;34m\u001b[0m\u001b[0;34m\u001b[0m\u001b[0m\n\u001b[1;32m      2\u001b[0m   \u001b[0;32mwhile\u001b[0m \u001b[0mn\u001b[0m \u001b[0;34m>=\u001b[0m \u001b[0;36m0\u001b[0m\u001b[0;34m:\u001b[0m\u001b[0;34m\u001b[0m\u001b[0;34m\u001b[0m\u001b[0m\n\u001b[0;32m----> 3\u001b[0;31m     \u001b[0msn\u001b[0m \u001b[0;34m=\u001b[0m \u001b[0mr\u001b[0m\u001b[0;34m**\u001b[0m\u001b[0mn\u001b[0m \u001b[0;34m+\u001b[0m \u001b[0ma_n\u001b[0m\u001b[0;34m(\u001b[0m\u001b[0mr\u001b[0m\u001b[0;34m,\u001b[0m\u001b[0mn\u001b[0m\u001b[0;34m-\u001b[0m\u001b[0;36m1\u001b[0m\u001b[0;34m)\u001b[0m\u001b[0;34m\u001b[0m\u001b[0;34m\u001b[0m\u001b[0m\n\u001b[0m\u001b[1;32m      4\u001b[0m   \u001b[0;32mreturn\u001b[0m \u001b[0msn\u001b[0m\u001b[0;34m\u001b[0m\u001b[0;34m\u001b[0m\u001b[0m\n\u001b[1;32m      5\u001b[0m \u001b[0;34m\u001b[0m\u001b[0m\n",
            "\u001b[0;32m<ipython-input-27-ad0c67f02ee4>\u001b[0m in \u001b[0;36ma_n\u001b[0;34m(r, n)\u001b[0m\n\u001b[1;32m      1\u001b[0m \u001b[0;32mdef\u001b[0m \u001b[0ma_n\u001b[0m\u001b[0;34m(\u001b[0m\u001b[0mr\u001b[0m\u001b[0;34m,\u001b[0m\u001b[0mn\u001b[0m\u001b[0;34m)\u001b[0m\u001b[0;34m:\u001b[0m\u001b[0;34m\u001b[0m\u001b[0;34m\u001b[0m\u001b[0m\n\u001b[1;32m      2\u001b[0m   \u001b[0;32mwhile\u001b[0m \u001b[0mn\u001b[0m \u001b[0;34m>=\u001b[0m \u001b[0;36m0\u001b[0m\u001b[0;34m:\u001b[0m\u001b[0;34m\u001b[0m\u001b[0;34m\u001b[0m\u001b[0m\n\u001b[0;32m----> 3\u001b[0;31m     \u001b[0msn\u001b[0m \u001b[0;34m=\u001b[0m \u001b[0mr\u001b[0m\u001b[0;34m**\u001b[0m\u001b[0mn\u001b[0m \u001b[0;34m+\u001b[0m \u001b[0ma_n\u001b[0m\u001b[0;34m(\u001b[0m\u001b[0mr\u001b[0m\u001b[0;34m,\u001b[0m\u001b[0mn\u001b[0m\u001b[0;34m-\u001b[0m\u001b[0;36m1\u001b[0m\u001b[0;34m)\u001b[0m\u001b[0;34m\u001b[0m\u001b[0;34m\u001b[0m\u001b[0m\n\u001b[0m\u001b[1;32m      4\u001b[0m   \u001b[0;32mreturn\u001b[0m \u001b[0msn\u001b[0m\u001b[0;34m\u001b[0m\u001b[0;34m\u001b[0m\u001b[0m\n\u001b[1;32m      5\u001b[0m \u001b[0;34m\u001b[0m\u001b[0m\n",
            "\u001b[0;32m<ipython-input-27-ad0c67f02ee4>\u001b[0m in \u001b[0;36ma_n\u001b[0;34m(r, n)\u001b[0m\n\u001b[1;32m      2\u001b[0m   \u001b[0;32mwhile\u001b[0m \u001b[0mn\u001b[0m \u001b[0;34m>=\u001b[0m \u001b[0;36m0\u001b[0m\u001b[0;34m:\u001b[0m\u001b[0;34m\u001b[0m\u001b[0;34m\u001b[0m\u001b[0m\n\u001b[1;32m      3\u001b[0m     \u001b[0msn\u001b[0m \u001b[0;34m=\u001b[0m \u001b[0mr\u001b[0m\u001b[0;34m**\u001b[0m\u001b[0mn\u001b[0m \u001b[0;34m+\u001b[0m \u001b[0ma_n\u001b[0m\u001b[0;34m(\u001b[0m\u001b[0mr\u001b[0m\u001b[0;34m,\u001b[0m\u001b[0mn\u001b[0m\u001b[0;34m-\u001b[0m\u001b[0;36m1\u001b[0m\u001b[0;34m)\u001b[0m\u001b[0;34m\u001b[0m\u001b[0;34m\u001b[0m\u001b[0m\n\u001b[0;32m----> 4\u001b[0;31m   \u001b[0;32mreturn\u001b[0m \u001b[0msn\u001b[0m\u001b[0;34m\u001b[0m\u001b[0;34m\u001b[0m\u001b[0m\n\u001b[0m\u001b[1;32m      5\u001b[0m \u001b[0;34m\u001b[0m\u001b[0m\n\u001b[1;32m      6\u001b[0m \u001b[0;31m# r = int(input())\u001b[0m\u001b[0;34m\u001b[0m\u001b[0;34m\u001b[0m\u001b[0;34m\u001b[0m\u001b[0m\n",
            "\u001b[0;31mUnboundLocalError\u001b[0m: local variable 'sn' referenced before assignment"
          ]
        }
      ]
    }
  ]
}